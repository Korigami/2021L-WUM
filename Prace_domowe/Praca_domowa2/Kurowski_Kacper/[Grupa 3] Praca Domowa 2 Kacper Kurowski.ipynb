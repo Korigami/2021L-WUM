{
 "cells": [
  {
   "cell_type": "markdown",
   "metadata": {},
   "source": [
    "# [WUM] PD2\n",
    "## Kacper Kurowski\n",
    "\n",
    "# 1. Kodowanie danych\n",
    "Zacznijmy od załączenia paczek, wczytania danych i "
   ]
  },
  {
   "cell_type": "code",
   "execution_count": null,
   "metadata": {},
   "outputs": [],
   "source": [
    "import pandas as pd"
   ]
  },
  {
   "cell_type": "code",
   "execution_count": 2,
   "metadata": {},
   "outputs": [],
   "source": [
    "data = pd.read_csv(\"https://www.dropbox.com/s/360xhh2d9lnaek3/allegro-api-transactions.csv?dl=1\")"
   ]
  },
  {
   "cell_type": "code",
   "execution_count": 3,
   "metadata": {},
   "outputs": [
    {
     "data": {
      "text/html": [
       "<div>\n",
       "<style scoped>\n",
       "    .dataframe tbody tr th:only-of-type {\n",
       "        vertical-align: middle;\n",
       "    }\n",
       "\n",
       "    .dataframe tbody tr th {\n",
       "        vertical-align: top;\n",
       "    }\n",
       "\n",
       "    .dataframe thead th {\n",
       "        text-align: right;\n",
       "    }\n",
       "</style>\n",
       "<table border=\"1\" class=\"dataframe\">\n",
       "  <thead>\n",
       "    <tr style=\"text-align: right;\">\n",
       "      <th></th>\n",
       "      <th>lp</th>\n",
       "      <th>date</th>\n",
       "      <th>item_id</th>\n",
       "      <th>categories</th>\n",
       "      <th>pay_option_on_delivery</th>\n",
       "      <th>pay_option_transfer</th>\n",
       "      <th>seller</th>\n",
       "      <th>price</th>\n",
       "      <th>it_is_allegro_standard</th>\n",
       "      <th>it_quantity</th>\n",
       "      <th>it_is_brand_zone</th>\n",
       "      <th>it_seller_rating</th>\n",
       "      <th>it_location</th>\n",
       "      <th>main_category</th>\n",
       "    </tr>\n",
       "  </thead>\n",
       "  <tbody>\n",
       "    <tr>\n",
       "      <th>0</th>\n",
       "      <td>0</td>\n",
       "      <td>2016-04-03 21:21:08</td>\n",
       "      <td>4753602474</td>\n",
       "      <td>['Komputery', 'Dyski i napędy', 'Nośniki', 'No...</td>\n",
       "      <td>1</td>\n",
       "      <td>1</td>\n",
       "      <td>radzioch666</td>\n",
       "      <td>59.99</td>\n",
       "      <td>1</td>\n",
       "      <td>997</td>\n",
       "      <td>0</td>\n",
       "      <td>50177</td>\n",
       "      <td>Warszawa</td>\n",
       "      <td>Komputery</td>\n",
       "    </tr>\n",
       "    <tr>\n",
       "      <th>1</th>\n",
       "      <td>1</td>\n",
       "      <td>2016-04-03 15:35:26</td>\n",
       "      <td>4773181874</td>\n",
       "      <td>['Odzież, Obuwie, Dodatki', 'Bielizna damska',...</td>\n",
       "      <td>1</td>\n",
       "      <td>1</td>\n",
       "      <td>InwestycjeNET</td>\n",
       "      <td>4.90</td>\n",
       "      <td>1</td>\n",
       "      <td>9288</td>\n",
       "      <td>0</td>\n",
       "      <td>12428</td>\n",
       "      <td>Warszawa</td>\n",
       "      <td>Odzież, Obuwie, Dodatki</td>\n",
       "    </tr>\n",
       "    <tr>\n",
       "      <th>2</th>\n",
       "      <td>2</td>\n",
       "      <td>2016-04-03 14:14:31</td>\n",
       "      <td>4781627074</td>\n",
       "      <td>['Dom i Ogród', 'Budownictwo i Akcesoria', 'Śc...</td>\n",
       "      <td>1</td>\n",
       "      <td>1</td>\n",
       "      <td>otostyl_com</td>\n",
       "      <td>109.90</td>\n",
       "      <td>1</td>\n",
       "      <td>895</td>\n",
       "      <td>0</td>\n",
       "      <td>7389</td>\n",
       "      <td>Leszno</td>\n",
       "      <td>Dom i Ogród</td>\n",
       "    </tr>\n",
       "    <tr>\n",
       "      <th>3</th>\n",
       "      <td>3</td>\n",
       "      <td>2016-04-03 19:55:44</td>\n",
       "      <td>4783971474</td>\n",
       "      <td>['Książki i Komiksy', 'Poradniki i albumy', 'Z...</td>\n",
       "      <td>1</td>\n",
       "      <td>1</td>\n",
       "      <td>Matfel1</td>\n",
       "      <td>18.50</td>\n",
       "      <td>0</td>\n",
       "      <td>971</td>\n",
       "      <td>0</td>\n",
       "      <td>15006</td>\n",
       "      <td>Wola Krzysztoporska</td>\n",
       "      <td>Książki i Komiksy</td>\n",
       "    </tr>\n",
       "    <tr>\n",
       "      <th>4</th>\n",
       "      <td>4</td>\n",
       "      <td>2016-04-03 18:05:54</td>\n",
       "      <td>4787908274</td>\n",
       "      <td>['Odzież, Obuwie, Dodatki', 'Ślub i wesele', '...</td>\n",
       "      <td>1</td>\n",
       "      <td>1</td>\n",
       "      <td>PPHU_RICO</td>\n",
       "      <td>19.90</td>\n",
       "      <td>1</td>\n",
       "      <td>950</td>\n",
       "      <td>0</td>\n",
       "      <td>32975</td>\n",
       "      <td>BIAŁYSTOK</td>\n",
       "      <td>Odzież, Obuwie, Dodatki</td>\n",
       "    </tr>\n",
       "  </tbody>\n",
       "</table>\n",
       "</div>"
      ],
      "text/plain": [
       "   lp                 date     item_id  \\\n",
       "0   0  2016-04-03 21:21:08  4753602474   \n",
       "1   1  2016-04-03 15:35:26  4773181874   \n",
       "2   2  2016-04-03 14:14:31  4781627074   \n",
       "3   3  2016-04-03 19:55:44  4783971474   \n",
       "4   4  2016-04-03 18:05:54  4787908274   \n",
       "\n",
       "                                          categories  pay_option_on_delivery  \\\n",
       "0  ['Komputery', 'Dyski i napędy', 'Nośniki', 'No...                       1   \n",
       "1  ['Odzież, Obuwie, Dodatki', 'Bielizna damska',...                       1   \n",
       "2  ['Dom i Ogród', 'Budownictwo i Akcesoria', 'Śc...                       1   \n",
       "3  ['Książki i Komiksy', 'Poradniki i albumy', 'Z...                       1   \n",
       "4  ['Odzież, Obuwie, Dodatki', 'Ślub i wesele', '...                       1   \n",
       "\n",
       "   pay_option_transfer         seller   price  it_is_allegro_standard  \\\n",
       "0                    1    radzioch666   59.99                       1   \n",
       "1                    1  InwestycjeNET    4.90                       1   \n",
       "2                    1    otostyl_com  109.90                       1   \n",
       "3                    1        Matfel1   18.50                       0   \n",
       "4                    1      PPHU_RICO   19.90                       1   \n",
       "\n",
       "   it_quantity  it_is_brand_zone  it_seller_rating          it_location  \\\n",
       "0          997                 0             50177             Warszawa   \n",
       "1         9288                 0             12428             Warszawa   \n",
       "2          895                 0              7389               Leszno   \n",
       "3          971                 0             15006  Wola Krzysztoporska   \n",
       "4          950                 0             32975            BIAŁYSTOK   \n",
       "\n",
       "             main_category  \n",
       "0                Komputery  \n",
       "1  Odzież, Obuwie, Dodatki  \n",
       "2              Dom i Ogród  \n",
       "3        Książki i Komiksy  \n",
       "4  Odzież, Obuwie, Dodatki  "
      ]
     },
     "execution_count": 3,
     "metadata": {},
     "output_type": "execute_result"
    }
   ],
   "source": [
    "data.head()"
   ]
  },
  {
   "cell_type": "code",
   "execution_count": 7,
   "metadata": {},
   "outputs": [],
   "source": [
    "means = data.groupby('it_location')['price'].mean()\n",
    "data['it_location_encoded'] = data['it_location'].map(means)\n"
   ]
  },
  {
   "cell_type": "code",
   "execution_count": 8,
   "metadata": {},
   "outputs": [
    {
     "name": "stdout",
     "output_type": "stream",
     "text": [
      "            lp                 date     item_id  \\\n",
      "0            0  2016-04-03 21:21:08  4753602474   \n",
      "1            1  2016-04-03 15:35:26  4773181874   \n",
      "2            2  2016-04-03 14:14:31  4781627074   \n",
      "3            3  2016-04-03 19:55:44  4783971474   \n",
      "4            4  2016-04-03 18:05:54  4787908274   \n",
      "...        ...                  ...         ...   \n",
      "420015  420015  2016-04-03 20:27:13  6099625607   \n",
      "420016  420016  2016-04-03 22:35:02  6099634607   \n",
      "420017  420017  2016-04-03 22:38:57  6099780407   \n",
      "420018  420018  2016-04-03 22:44:17  6099801007   \n",
      "420019  420019  2016-04-03 23:08:23  6099873207   \n",
      "\n",
      "                                               categories  \\\n",
      "0       ['Komputery', 'Dyski i napędy', 'Nośniki', 'No...   \n",
      "1       ['Odzież, Obuwie, Dodatki', 'Bielizna damska',...   \n",
      "2       ['Dom i Ogród', 'Budownictwo i Akcesoria', 'Śc...   \n",
      "3       ['Książki i Komiksy', 'Poradniki i albumy', 'Z...   \n",
      "4       ['Odzież, Obuwie, Dodatki', 'Ślub i wesele', '...   \n",
      "...                                                   ...   \n",
      "420015  ['RTV i AGD', 'Sprzęt audio dla domu', 'Odtwar...   \n",
      "420016      ['Uroda', 'Makijaż', 'Oczy', 'Tusze do rzęs']   \n",
      "420017  ['Odzież, Obuwie, Dodatki', 'Przebrania, kosti...   \n",
      "420018  ['Dla Dzieci', 'Rowery i pojazdy', 'Rowery bie...   \n",
      "420019  ['Motoryzacja', 'Części samochodowe', 'Koła, f...   \n",
      "\n",
      "        pay_option_on_delivery  pay_option_transfer           seller   price  \\\n",
      "0                            1                    1      radzioch666   59.99   \n",
      "1                            1                    1    InwestycjeNET    4.90   \n",
      "2                            1                    1      otostyl_com  109.90   \n",
      "3                            1                    1          Matfel1   18.50   \n",
      "4                            1                    1        PPHU_RICO   19.90   \n",
      "...                        ...                  ...              ...     ...   \n",
      "420015                       0                    0        iwona7012  180.00   \n",
      "420016                       1                    1  Dolce_Cosmetics   14.99   \n",
      "420017                       1                    1        pewex4all    5.99   \n",
      "420018                       1                    0         kostasia  200.00   \n",
      "420019                       0                    0        Malami172  500.00   \n",
      "\n",
      "        it_is_allegro_standard  it_quantity  it_is_brand_zone  \\\n",
      "0                            1          997                 0   \n",
      "1                            1         9288                 0   \n",
      "2                            1          895                 0   \n",
      "3                            0          971                 0   \n",
      "4                            1          950                 0   \n",
      "...                        ...          ...               ...   \n",
      "420015                       0            0                 0   \n",
      "420016                       1            2                 0   \n",
      "420017                       1          470                 0   \n",
      "420018                       0            0                 0   \n",
      "420019                       0            0                 0   \n",
      "\n",
      "        it_seller_rating          it_location            main_category  \\\n",
      "0                  50177             Warszawa                Komputery   \n",
      "1                  12428             Warszawa  Odzież, Obuwie, Dodatki   \n",
      "2                   7389               Leszno              Dom i Ogród   \n",
      "3                  15006  Wola Krzysztoporska        Książki i Komiksy   \n",
      "4                  32975            BIAŁYSTOK  Odzież, Obuwie, Dodatki   \n",
      "...                  ...                  ...                      ...   \n",
      "420015               176              Kraśnik                RTV i AGD   \n",
      "420016             34851          Dzierżoniów                    Uroda   \n",
      "420017               983              Supraśl  Odzież, Obuwie, Dodatki   \n",
      "420018               163               Poznań               Dla Dzieci   \n",
      "420019               265                Pszów              Motoryzacja   \n",
      "\n",
      "        it_location_encoded  \n",
      "0                 85.423398  \n",
      "1                 85.423398  \n",
      "2                 61.990914  \n",
      "3                 35.433365  \n",
      "4                117.191956  \n",
      "...                     ...  \n",
      "420015            24.306929  \n",
      "420016            66.785334  \n",
      "420017            18.682800  \n",
      "420018           106.203076  \n",
      "420019            78.136792  \n",
      "\n",
      "[420020 rows x 15 columns]\n"
     ]
    }
   ],
   "source": [
    "print(data)"
   ]
  },
  {
   "cell_type": "markdown",
   "metadata": {},
   "source": [
    "## Przewagi target nad one_hot\n",
    "\n",
    "Prawdopodobnie największą przewagą target encoding nad one hot jest to, że target encoding znacząco zmniejsza pamięć potrzebną do zapisania (w szczególności sporej liczby) kategorii. Zasadniczo nie jet istotna liczba kategorii, gdyż i tak wynikiem będzie float. \n",
    "\n",
    "Kolejną przewagą jest to, że przy dostatecznie dużej liczby danych możemy uchwycić nietrywialne zależności między niezbyt dokładnie spreparowanymi danymi, tzn. zauważmy, że zmienna it_location nie ma ustalonej konwencji zapisowej - Mamy \"Warszawa\", \"Leszno\", ale także \"BIAŁYSTOK\" - tylko capsem. Gdyby zatem funkcjonowała także nazwa \"Białystok\", to one hot uznałby te nazwy jako inne, choć reprezentują ten sam obiekt. Target encoding z kolei, pod warunkiem dostatecznie wielu danych (dla obydwu nazw) ma szansę ujednolicić je.  \n",
    "\n",
    "Powyżej wymieniona cecha jest jednak też czymś, co może zostać potratowane jako wadę - one hot wszystkie różniące się zmienne traktuje inaczej, podczas gdy target zlewa je do porównywalnych ze sobą liczb typu float - pozwalając na porównywanie nie do końca porównywalnych ze sobą nazw. \n",
    "\n",
    "Jeszcze jedną zaletą target jest to, że wykorzystuje ona dane z dwóch kolummn - jednej, do zakodowania, drugiej do zagregowania informacji względem zmiennej, którą kodujemy - tym samym uzyskujemy częściową informację z jednej z kolumn\n",
    "\n",
    "## Porównanie 3 metod"
   ]
  },
  {
   "cell_type": "code",
   "execution_count": 16,
   "metadata": {},
   "outputs": [],
   "source": [
    "from numpy import array\n",
    "import category_encoders as ce\n"
   ]
  },
  {
   "cell_type": "code",
   "execution_count": 17,
   "metadata": {},
   "outputs": [
    {
     "name": "stdout",
     "output_type": "stream",
     "text": [
      "OneHot Encoder:         main_category_1  main_category_2  main_category_3  main_category_4  \\\n",
      "0                     1                0                0                0   \n",
      "1                     0                1                0                0   \n",
      "2                     0                0                1                0   \n",
      "3                     0                0                0                1   \n",
      "4                     0                1                0                0   \n",
      "...                 ...              ...              ...              ...   \n",
      "420015                0                0                0                0   \n",
      "420016                0                0                0                0   \n",
      "420017                0                1                0                0   \n",
      "420018                0                0                0                0   \n",
      "420019                0                0                0                0   \n",
      "\n",
      "        main_category_5  main_category_6  main_category_7  main_category_8  \\\n",
      "0                     0                0                0                0   \n",
      "1                     0                0                0                0   \n",
      "2                     0                0                0                0   \n",
      "3                     0                0                0                0   \n",
      "4                     0                0                0                0   \n",
      "...                 ...              ...              ...              ...   \n",
      "420015                0                1                0                0   \n",
      "420016                0                0                0                0   \n",
      "420017                0                0                0                0   \n",
      "420018                0                0                0                1   \n",
      "420019                0                0                1                0   \n",
      "\n",
      "        main_category_9  main_category_10  ...  main_category_18  \\\n",
      "0                     0                 0  ...                 0   \n",
      "1                     0                 0  ...                 0   \n",
      "2                     0                 0  ...                 0   \n",
      "3                     0                 0  ...                 0   \n",
      "4                     0                 0  ...                 0   \n",
      "...                 ...               ...  ...               ...   \n",
      "420015                0                 0  ...                 0   \n",
      "420016                1                 0  ...                 0   \n",
      "420017                0                 0  ...                 0   \n",
      "420018                0                 0  ...                 0   \n",
      "420019                0                 0  ...                 0   \n",
      "\n",
      "        main_category_19  main_category_20  main_category_21  \\\n",
      "0                      0                 0                 0   \n",
      "1                      0                 0                 0   \n",
      "2                      0                 0                 0   \n",
      "3                      0                 0                 0   \n",
      "4                      0                 0                 0   \n",
      "...                  ...               ...               ...   \n",
      "420015                 0                 0                 0   \n",
      "420016                 0                 0                 0   \n",
      "420017                 0                 0                 0   \n",
      "420018                 0                 0                 0   \n",
      "420019                 0                 0                 0   \n",
      "\n",
      "        main_category_22  main_category_23  main_category_24  \\\n",
      "0                      0                 0                 0   \n",
      "1                      0                 0                 0   \n",
      "2                      0                 0                 0   \n",
      "3                      0                 0                 0   \n",
      "4                      0                 0                 0   \n",
      "...                  ...               ...               ...   \n",
      "420015                 0                 0                 0   \n",
      "420016                 0                 0                 0   \n",
      "420017                 0                 0                 0   \n",
      "420018                 0                 0                 0   \n",
      "420019                 0                 0                 0   \n",
      "\n",
      "        main_category_25  main_category_26  main_category_27  \n",
      "0                      0                 0                 0  \n",
      "1                      0                 0                 0  \n",
      "2                      0                 0                 0  \n",
      "3                      0                 0                 0  \n",
      "4                      0                 0                 0  \n",
      "...                  ...               ...               ...  \n",
      "420015                 0                 0                 0  \n",
      "420016                 0                 0                 0  \n",
      "420017                 0                 0                 0  \n",
      "420018                 0                 0                 0  \n",
      "420019                 0                 0                 0  \n",
      "\n",
      "[420020 rows x 27 columns]\n",
      "Binary Encoder:         main_category_0  main_category_1  main_category_2  main_category_3  \\\n",
      "0                     0                0                0                0   \n",
      "1                     0                0                0                0   \n",
      "2                     0                0                0                0   \n",
      "3                     0                0                0                1   \n",
      "4                     0                0                0                0   \n",
      "...                 ...              ...              ...              ...   \n",
      "420015                0                0                0                1   \n",
      "420016                0                0                1                0   \n",
      "420017                0                0                0                0   \n",
      "420018                0                0                1                0   \n",
      "420019                0                0                0                1   \n",
      "\n",
      "        main_category_4  main_category_5  \n",
      "0                     0                1  \n",
      "1                     1                0  \n",
      "2                     1                1  \n",
      "3                     0                0  \n",
      "4                     1                0  \n",
      "...                 ...              ...  \n",
      "420015                1                0  \n",
      "420016                0                1  \n",
      "420017                1                0  \n",
      "420018                0                0  \n",
      "420019                1                1  \n",
      "\n",
      "[420020 rows x 6 columns]\n",
      "Count Encoder:         main_category\n",
      "0               14491\n",
      "1               54257\n",
      "2               91042\n",
      "3               11572\n",
      "4               54257\n",
      "...               ...\n",
      "420015          20341\n",
      "420016          28096\n",
      "420017          54257\n",
      "420018          42107\n",
      "420019          45941\n",
      "\n",
      "[420020 rows x 1 columns]\n"
     ]
    }
   ],
   "source": [
    "values = array( data.main_category)\n",
    "\n",
    "# onehot encode\n",
    "onehot_encoded = ce.OneHotEncoder().fit_transform(data.main_category)\n",
    "print( \"OneHot Encoder:\", onehot_encoded)\n",
    "# binary encode\n",
    "binary_encoded = ce.BinaryEncoder().fit_transform(data.main_category)\n",
    "print( \"Binary Encoder:\", binary_encoded)\n",
    "# count encode\n",
    "count_encoded = ce.count.CountEncoder().fit_transform(data.main_category)\n",
    "print( \"Count Encoder:\", count_encoded)"
   ]
  },
  {
   "cell_type": "markdown",
   "metadata": {},
   "source": [
    "### Wyjaśnienie działania:\n",
    "\n",
    "Niech $n$ będzie liczbą nazw w danej kolumnie\n",
    "* One-hot encoder zapisuje każdą nazwę jako wektor n-wymiarowy\n",
    "* Binary encoder zapisuje każdą nazwę jako ciąg (krotkę) binarny długości $ \\approx \\lceil log_2(n )\\rceil$\n",
    "* Count encoder zapisuje każdą nazwę jako liczbę powtórzeń tej nazwy w danej kolumnie\n",
    "\n",
    "Należy zaznaczyć, że o ile dwa pierwsze sposoby encodowania są różnowartościowe, o tyle trzeci już niekoniecznie - co może ograniczyć jego uzyteczność. Trzeci sposób moze być zarazem najefektywniejszy, jak i najmniej efektywny pamięciowo - dla małej liczby bardzo często powtarzającyh się kategorii niepotrzebnie będzie kodował kategorie poprzez duże liczby.\n",
    "Drugi sposób kodowania jest efektywniejszy pamięciowo (gdyby krokta binarna była krotką binarną w pamięci) niż pierwszy. \n",
    "\n",
    "Zależnie od sytuacji pierwszy jak i trzeci sposób kodowania może dawać problematyczne rezultaty - pierwszy nie dba o liczbę powtórzeń, zaś drugi o liczbę kategorii. Gdyby zatem mieć 1000 kategorii, każda występująca 1 raz, to pierwszy sposób by zapisywał dane jako ciag długości 1000, z kolei trzeci wszystkie by zrzutował na 1.\n",
    "\n",
    "Powyższe uwagi mogłyby sugerować, że binary encode jest lepszy od pozostałych. Jednakże, ten sposób zakodowywania prowadzi do błędnego przypuszczenia, że taka sama wartość dwóch różnych nazw na $i$-tej pozycji w krotce oznacza pewne powiązanie tych nazw - tak oczywiscie nie musi być. (Count Encoder prowadzi do jeszcze większego problemu z konieczną porównywalnością zakodowanych kategorii)"
   ]
  },
  {
   "cell_type": "markdown",
   "metadata": {},
   "source": [
    "## 2. Uzupełnianie braków\n",
    "\n",
    "Zacznijmy od zmniejszenia liczby rozważanych kolumn i doczytania paczek"
   ]
  },
  {
   "cell_type": "code",
   "execution_count": 96,
   "metadata": {},
   "outputs": [],
   "source": [
    "data_smaller = pd.DataFrame( data[[\"price\", \"it_seller_rating\", \"it_quantity\"]])"
   ]
  },
  {
   "cell_type": "code",
   "execution_count": 97,
   "metadata": {},
   "outputs": [],
   "source": [
    "from random import shuffle\n",
    "import numpy as np\n",
    "from sklearn.impute import KNNImputer\n"
   ]
  },
  {
   "cell_type": "code",
   "execution_count": 98,
   "metadata": {},
   "outputs": [],
   "source": [
    "from sklearn.metrics import mean_squared_error\n",
    "\n",
    "def random_remove_seller_rating_get_rmse( df):\n",
    "    \n",
    "    df_new = df.copy()\n",
    "    \n",
    "    values_new = array( df_new[\"it_seller_rating\"])\n",
    "\n",
    "    leng = len( values_new)\n",
    "    leng_rang = np.arange( leng)\n",
    "\n",
    "\n",
    "\n",
    "    shuffle( leng_rang)\n",
    "    count = int( leng* 0.1)\n",
    "    for i in range( count):\n",
    "        values_new[ leng_rang[ i]] = -1 # Możemy dać -1, bo ani it_seller, ani it_quantity nie przybierają tej wartości\n",
    "    \n",
    "    values_new = values_new.reshape(1, -1)\n",
    "    \n",
    "    imputer = KNNImputer(n_neighbors=4, weights=\"uniform\", missing_values=-1)\n",
    "    imputer.fit_transform( values_new )\n",
    "        \n",
    "    df_new[\"it_seller_rating\"] = values_new[0]\n",
    "    \n",
    "    return mean_squared_error( df, df_new, squared=False)"
   ]
  },
  {
   "cell_type": "code",
   "execution_count": 14,
   "metadata": {},
   "outputs": [
    {
     "name": "stdout",
     "output_type": "stream",
     "text": [
      "         price  it_seller_rating  it_quantity\n",
      "0        59.99             50177          997\n",
      "1         4.90             12428         9288\n",
      "2       109.90              7389          895\n",
      "3        18.50             15006          971\n",
      "4        19.90             32975          950\n",
      "...        ...               ...          ...\n",
      "420015  180.00               176            0\n",
      "420016   14.99             34851            2\n",
      "420017    5.99               983          470\n",
      "420018  200.00               163            0\n",
      "420019  500.00               265            0\n",
      "\n",
      "[420020 rows x 3 columns]\n"
     ]
    }
   ],
   "source": [
    "print( data_smaller)"
   ]
  },
  {
   "cell_type": "code",
   "execution_count": 99,
   "metadata": {},
   "outputs": [
    {
     "name": "stdout",
     "output_type": "stream",
     "text": [
      "0\n",
      "1\n",
      "2\n",
      "3\n",
      "4\n",
      "5\n",
      "6\n",
      "7\n",
      "8\n",
      "9\n"
     ]
    }
   ],
   "source": [
    "errors = list()\n",
    "for i in range( 10):\n",
    "    errors.append( random_remove_seller_rating_get_rmse( data_smaller) )\n",
    "    print(i) # Może nieco zająć, więc patrzymy, kiedy dana iteracja się skończy"
   ]
  },
  {
   "cell_type": "code",
   "execution_count": 100,
   "metadata": {},
   "outputs": [],
   "source": [
    "import statistics\n",
    "std = statistics.stdev(errors)"
   ]
  },
  {
   "cell_type": "code",
   "execution_count": 101,
   "metadata": {},
   "outputs": [
    {
     "name": "stdout",
     "output_type": "stream",
     "text": [
      "63.444572946079646\n"
     ]
    }
   ],
   "source": [
    "print(std)"
   ]
  },
  {
   "cell_type": "code",
   "execution_count": 102,
   "metadata": {},
   "outputs": [],
   "source": [
    "def random_remove_two_columns_get_rmse( df):\n",
    "    \n",
    "    df_new = df.copy()\n",
    "    \n",
    "    values_new = array( df_new [\"it_seller_rating\"])\n",
    "    values2_new = array( df_new [\"it_quantity\"])\n",
    "    \n",
    "    \n",
    "    # change in it_seller\n",
    "    \n",
    "    leng = len( values_new)\n",
    "    leng_rang = np.arange( leng)\n",
    "\n",
    "    shuffle( leng_rang)\n",
    "    count = int( leng* 0.1)\n",
    "    for i in range( count):\n",
    "        values_new[ leng_rang[ i]] = -1 # Możemy dać -1, bo ani it_seller, ani it_quantity nie przybierają tej wartości\n",
    "    \n",
    "    values_new = values_new.reshape(1, -1)\n",
    "    \n",
    "    imputer = KNNImputer(n_neighbors=4, weights=\"uniform\", missing_values=-1)\n",
    "    imputer.fit_transform( values_new )\n",
    "        \n",
    "    df_new[\"it_seller_rating\"] = values_new[0]\n",
    "    \n",
    "    # change in it_quantity\n",
    "    \n",
    "    leng = len( values2_new)\n",
    "    leng_rang = np.arange( leng)\n",
    "\n",
    "    shuffle( leng_rang)\n",
    "    count = int( leng* 0.1)\n",
    "    for i in range( count):\n",
    "        values2_new[ leng_rang[ i]] = -1 # Możemy dać -1, bo ani it_seller, ani it_quantity nie przybierają tej wartości\n",
    "    \n",
    "    values2_new = values2_new.reshape(1, -1)\n",
    "    \n",
    "    imputer = KNNImputer(n_neighbors=4, weights=\"uniform\", missing_values=-1)\n",
    "    imputer.fit_transform( values2_new )\n",
    "        \n",
    "    df_new[\"it_quantity\"] = values2_new[0]\n",
    "    \n",
    "    \n",
    "    return mean_squared_error( df, df_new, squared=False)"
   ]
  },
  {
   "cell_type": "code",
   "execution_count": 103,
   "metadata": {},
   "outputs": [
    {
     "name": "stdout",
     "output_type": "stream",
     "text": [
      "0\n",
      "1\n",
      "2\n",
      "3\n",
      "4\n",
      "5\n",
      "6\n",
      "7\n",
      "8\n",
      "9\n"
     ]
    }
   ],
   "source": [
    "errors2 = list()\n",
    "for i in range( 10):\n",
    "    errors2.append( random_remove_two_columns_get_rmse( data_smaller) )\n",
    "    print(i) # Może nieco zająć, więc patrzymy, kiedy dana iteracja się skończy"
   ]
  },
  {
   "cell_type": "code",
   "execution_count": 105,
   "metadata": {},
   "outputs": [
    {
     "name": "stdout",
     "output_type": "stream",
     "text": [
      "std dla jednej kolumny:  63.444572946079646\n",
      "błędy dla jednej kolumny:  [7638.373829227394, 7562.741683760912, 7688.771474542412, 7537.950660277675, 7742.097780304491, 7638.127326858296, 7653.744816601474, 7725.269679247705, 7635.936085015791, 7647.295282074816]\n",
      "\n",
      "std dla dwóch kolumn:  50.57526433343624\n",
      "błędy dla dwóch kolumn:  [8813.932596485596, 8793.4535905665, 8922.302913582296, 8838.410181447824, 8906.116284693506, 8838.528734754467, 8901.595926056509, 8930.713668560207, 8918.613928313114, 8839.298444313119]\n"
     ]
    }
   ],
   "source": [
    "std2 = statistics.stdev(errors2)\n",
    "print(\"std dla jednej kolumny: \", std)\n",
    "print(\"błędy dla jednej kolumny: \", errors)\n",
    "print()\n",
    "print(\"std dla dwóch kolumn: \", std2)\n",
    "print(\"błędy dla dwóch kolumn: \", errors2)"
   ]
  },
  {
   "cell_type": "markdown",
   "metadata": {},
   "source": [
    "### WNIOSKI:\n",
    "\n",
    "Zdaje się, że choć błędy są większe dla procesu zmieniania dwóch kolumn, to odchylenie standardowe uzyskiwanych błędów jest mniejsze niż gdyby zmieniało się tylko jedną kolumnę. "
   ]
  },
  {
   "cell_type": "code",
   "execution_count": 92,
   "metadata": {},
   "outputs": [],
   "source": [
    "import seaborn as sns\n",
    "import matplotlib.pyplot as plt"
   ]
  },
  {
   "cell_type": "code",
   "execution_count": 93,
   "metadata": {},
   "outputs": [],
   "source": [
    "error_df1 = pd.DataFrame( errors, columns = [\"errors\"])\n",
    "error_df1[\"no_of_changed_cols\"] = 1\n",
    "error_df2 = pd.DataFrame( errors2, columns = [\"errors\"])\n",
    "error_df2[\"no_of_changed_cols\"] = 2\n",
    "\n",
    "error_df = pd.concat( [error_df1, error_df2])\n",
    "error_df = error_df.reset_index()"
   ]
  },
  {
   "cell_type": "code",
   "execution_count": 91,
   "metadata": {},
   "outputs": [
    {
     "data": {
      "text/plain": [
       "[]"
      ]
     },
     "execution_count": 91,
     "metadata": {},
     "output_type": "execute_result"
    },
    {
     "data": {
      "image/png": "[encoded data removed]",
      "text/plain": [
       "<Figure size 432x288 with 1 Axes>"
      ]
     },
     "metadata": {
      "needs_background": "light"
     },
     "output_type": "display_data"
    }
   ],
   "source": [
    "sns.histplot( data = error_df, x = \"errors\", hue = \"no_of_changed_cols\", stat=\"density\", binwidth=20)\n",
    "plt.plot()"
   ]
  }
 ],
 "metadata": {
  "kernelspec": {
   "display_name": "Python 3",
   "language": "python",
   "name": "python3"
  },
  "language_info": {
   "codemirror_mode": {
    "name": "ipython",
    "version": 3
   },
   "file_extension": ".py",
   "mimetype": "text/x-python",
   "name": "python",
   "nbconvert_exporter": "python",
   "pygments_lexer": "ipython3",
   "version": "3.8.3"
  }
 },
 "nbformat": 4,
 "nbformat_minor": 4
}
